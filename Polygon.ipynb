{
 "cells": [
  {
   "cell_type": "code",
   "execution_count": 1,
   "metadata": {},
   "outputs": [],
   "source": [
    "import requests\n",
    "import numpy as np\n",
    "import pandas as pd\n",
    "import itertools\n",
    "import multiprocessing as mp\n",
    "import datetime\n",
    "import time\n",
    "import os\n",
    "pd.plotting.register_matplotlib_converters()\n",
    "#api_key = '{my_api_key}'\n",
    "url = 'https://api.polygon.io/v2/ticks/stocks/trades/{symbol}/{date}?timestamp={timestamp}&limit={limit}&apiKey={api_key}'"
   ]
  },
  {
   "cell_type": "markdown",
   "metadata": {},
   "source": [
    "# Get trade data from polygon.io"
   ]
  },
  {
   "cell_type": "code",
   "execution_count": 4,
   "metadata": {},
   "outputs": [],
   "source": [
    "def get_trades(date):\n",
    "    params = {\n",
    "    'symbol': 'SPY',\n",
    "    'date': date,\n",
    "    'timestamp': '0',\n",
    "    'limit': 50000,\n",
    "    'api_key': api_key\n",
    "    }\n",
    "    pdata = []\n",
    "    ct           = params['limit']\n",
    "    it           = 1\n",
    "    while ct >= params['limit']:\n",
    "        response = requests.get(url.format(**params)).json()\n",
    "        if 'results' in response:\n",
    "            ct                  = response['results_count']\n",
    "            pdata              += response['results']\n",
    "            params['timestamp'] = response['results'][-1]['t']\n",
    "        else:\n",
    "            ct = 0\n",
    "        #print('\\r{} | {}...'.format(date, it), end='')\n",
    "        it += 1\n",
    "    return pdata\n",
    "\n",
    "def get_historic_trades(date_start, date_end):\n",
    "    #get data and write to csv\n",
    "    dates = [str(x)[:10] for x in pd.date_range(date_start, date_end, freq='D')]\n",
    "    sd    = 0\n",
    "    fnum  = 0\n",
    "    while sd < len(dates):\n",
    "        with mp.Pool(8) as pool:\n",
    "            pricing_data = list(itertools.chain.from_iterable(pool.map(get_trades, dates[sd:(sd+100)])))\n",
    "        print('Exporting {} to {}...'.format(dates[sd], dates[sd+99]))\n",
    "        spydf = pd.DataFrame(pricing_data)\n",
    "        spydf.to_csv('SPY{}.csv'.format(fnum), index = False)\n",
    "        del spydf\n",
    "        del pricing_data\n",
    "        sd   += 100\n",
    "        fnum +=1\n",
    "    return\n",
    "    \n",
    "def export(num):\n",
    "    #read in trades, export each year to separate file\n",
    "    print('Reading in SPY{}'.format(num))\n",
    "    df = pd.read_csv('SPY{}.csv'.format(num), index_col = ['t'], engine = 'c')\n",
    "    print('\\tParsing dates')\n",
    "    df.index = pd.to_datetime(df.index, unit='ns')\n",
    "    print('\\tParsing year')\n",
    "    print('\\tExporting')\n",
    "    for k, g in df.groupby(df.index.year):\n",
    "        print('\\t\\t{}'.format(k))\n",
    "        g.to_csv('SPY_{}_{}.csv'.format(k, num), index=False)\n",
    "    return"
   ]
  }
 ],
 "metadata": {
  "kernelspec": {
   "display_name": "Python 3",
   "language": "python",
   "name": "python3"
  },
  "language_info": {
   "codemirror_mode": {
    "name": "ipython",
    "version": 3
   },
   "file_extension": ".py",
   "mimetype": "text/x-python",
   "name": "python",
   "nbconvert_exporter": "python",
   "pygments_lexer": "ipython3",
   "version": "3.7.6"
  }
 },
 "nbformat": 4,
 "nbformat_minor": 2
}
