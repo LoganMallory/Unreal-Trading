{
 "cells": [
  {
   "cell_type": "code",
   "execution_count": 1,
   "metadata": {},
   "outputs": [],
   "source": [
    "import pandas as pd\n",
    "import numpy as np\n",
    "import tensorflow as tf\n",
    "import matplotlib.pyplot as plt"
   ]
  },
  {
   "cell_type": "code",
   "execution_count": 105,
   "metadata": {},
   "outputs": [],
   "source": [
    "def strided_window(a, window_size, step_size):\n",
    "    #https://stackoverflow.com/questions/40084931/taking-subarrays-from-numpy-array-with-given-stride-stepsize/40085052#40085052\n",
    "    nrows = ((a.size-window_size)//step_size)+1\n",
    "    n     = a.strides[0]\n",
    "    return np.lib.stride_tricks.as_strided(a, shape=(nrows,window_size), strides=(step_size*n,n), writeable=False)\n",
    "\n",
    "def generate_view(ohlcv_data, lookback):\n",
    "    \"\"\"\n",
    "    Generates numpy view of ohlcv_data with shape (nrows-lookback, ncols*lookback)\n",
    "    :ohlcv_data: a contiguous numpy array with shape (n,m)\n",
    "    :lookback: an integer specifying how many periods to include in each row\n",
    "    \"\"\"\n",
    "    ncols  = ohlcv_data.shape[1]\n",
    "    prices = ohlcv_data.ravel()\n",
    "    #get views (references) of prices (no copying, no extra memory)\n",
    "    prices_strided = strided_window(prices, window_size=lookback*ncols, step_size = ncols)\n",
    "    return prices_strided[:-1]\n",
    "\n",
    "\n",
    "def get_raw_data(year):\n",
    "    df = pd.read_csv('./Polygon/Raw/SPY_{}.csv'.format(year), engine='c', index_col=['t'], usecols = ['t','p','s'], dtype={'t':np.int64, 'p':np.float64, 's':np.float64})\n",
    "    #convert index to pd.DatetimeIndex, timezone naive, daylight savings naive\n",
    "    df.index = pd.to_datetime(df.index, unit='ns')\n",
    "    #convert index to US-Eastern timezone, automatically takes care of daylight savings\n",
    "    df.index = df.index.tz_localize('UTC').tz_convert('US/Eastern')\n",
    "    #restrict data to trading hours\n",
    "    df = df.between_time('09:30:00', '16:00:00')\n",
    "    return df\n",
    "\n",
    "def calc_ohlcv(df, period):\n",
    "    #period = microseconds(U) | milliseconds(L) | seconds(S) | minutes(T) | hour(H)\n",
    "    temp = df.resample(period).agg({'p': 'ohlc', 's': 'sum'})\n",
    "    temp.columns = ['open','high','low','close','volume']\n",
    "    temp['close'].fillna(method='ffill', inplace=True)\n",
    "    temp['open'].fillna(temp['close'], inplace=True)\n",
    "    temp['high'].fillna(temp['close'], inplace=True)\n",
    "    temp['low'].fillna(temp['close'], inplace=True)\n",
    "    return temp\n",
    "\n",
    "def ohlcv_generator(year, resample_freq = 'T', measure = 'high', lookback_memory = 1):\n",
    "    try:\n",
    "        resample_freq = resample_freq.decode(\"utf-8\") \n",
    "        measure       = measure.decode(\"utf-8\") \n",
    "    except:\n",
    "        pass\n",
    "    spy = get_raw_data(year)\n",
    "    for day, day_group in spy.groupby([spy.index.month, spy.index.day]):\n",
    "        #get ohlcv data\n",
    "        ohlcv_temp = calc_ohlcv(day_group, resample_freq)\n",
    "        #take measure as outcome\n",
    "        Ytrain = ohlcv_temp[measure].values[lookback_memory:]\n",
    "        #generate training data\n",
    "        Xtrain = generate_view(ohlcv_temp.values, lookback_memory)\n",
    "        for i in range(Xtrain.shape[0]):\n",
    "            yield Xtrain[i], Ytrain[i]\n",
    "\n",
    "def market_price_generator(year, resample_freq = 'U'):\n",
    "    #FIX THIS\n",
    "    spy = get_raw_data(year)\n",
    "    for minute, minute_group in spy.groupby([spy.index.month, spy.index.day, spy.index.hour, spy.index.minute, spy.index.second]):\n",
    "        market_prices = minute_group.p.resample(resample_freq).ffill()\n",
    "        yield market_prices.values"
   ]
  },
  {
   "cell_type": "code",
   "execution_count": 106,
   "metadata": {},
   "outputs": [
    {
     "data": {
      "text/plain": [
       "500001"
      ]
     },
     "execution_count": 106,
     "metadata": {},
     "output_type": "execute_result"
    }
   ],
   "source": [
    "#should be 1billion\n",
    "len(next(market_price_generator(2003)))"
   ]
  },
  {
   "cell_type": "code",
   "execution_count": 97,
   "metadata": {},
   "outputs": [
    {
     "data": {
      "text/plain": [
       "8347"
      ]
     },
     "execution_count": 97,
     "metadata": {},
     "output_type": "execute_result"
    }
   ],
   "source": [
    "i = 0\n",
    "for x, y in ohlcv_generator(2003,'T','close',5):\n",
    "    i += 1\n",
    "i"
   ]
  },
  {
   "cell_type": "code",
   "execution_count": 99,
   "metadata": {},
   "outputs": [
    {
     "data": {
      "text/plain": [
       "<DatasetV1Adapter shapes: ((None, 10), (None,)), types: (tf.float32, tf.float32)>"
      ]
     },
     "execution_count": 99,
     "metadata": {},
     "output_type": "execute_result"
    }
   ],
   "source": [
    "YEAR = 2003\n",
    "FREQ = 'T'\n",
    "MSR  = 'close'\n",
    "MEM  = 2\n",
    "price_generator = tf.data.Dataset.from_generator(\n",
    "                    generator     = ohlcv_generator, args=[YEAR,FREQ,MSR,MEM], \n",
    "                    output_types  = (tf.float32, tf.float32),\n",
    "                    output_shapes =(tf.TensorShape([5*MEM]), tf.TensorShape([]))).repeat().batch(8).prefetch(8)\n",
    "     \n",
    "price_generator"
   ]
  },
  {
   "cell_type": "code",
   "execution_count": 100,
   "metadata": {},
   "outputs": [
    {
     "name": "stdout",
     "output_type": "stream",
     "text": [
      "Train for 8347 steps\n",
      "Epoch 1/5\n",
      "8347/8347 [==============================] - 17s 2ms/step - loss: 16.3909\n",
      "Epoch 2/5\n",
      "8347/8347 [==============================] - 17s 2ms/step - loss: 0.4358\n",
      "Epoch 3/5\n",
      "8347/8347 [==============================] - 17s 2ms/step - loss: 0.4360\n",
      "Epoch 4/5\n",
      "8347/8347 [==============================] - 17s 2ms/step - loss: 0.4384\n",
      "Epoch 5/5\n",
      "8347/8347 [==============================] - 17s 2ms/step - loss: 0.4377\n"
     ]
    },
    {
     "data": {
      "text/plain": [
       "<tensorflow.python.keras.callbacks.History at 0x7fe2ac3ee990>"
      ]
     },
     "execution_count": 100,
     "metadata": {},
     "output_type": "execute_result"
    }
   ],
   "source": [
    "model = tf.keras.Sequential([tf.keras.layers.Dense(32, input_shape=(5*MEM,)),\n",
    "                             tf.keras.layers.Dense(64, activation=tf.nn.tanh),\n",
    "                             tf.keras.layers.Dense(12, activation=tf.nn.softmax),\n",
    "                             tf.keras.layers.Dense(32, activation=tf.nn.tanh),\n",
    "                             tf.keras.layers.Dense(1, activation=tf.nn.relu)])\n",
    "\n",
    "model.compile(optimizer='adam',\n",
    "              loss='mean_absolute_error')\n",
    "\n",
    "model.fit(price_generator, epochs=5, steps_per_epoch=8347)"
   ]
  },
  {
   "cell_type": "code",
   "execution_count": null,
   "metadata": {},
   "outputs": [],
   "source": [
    "#only works on 1D data (predict high based off prev highs only)\n",
    "simple_lstm_model = tf.keras.models.Sequential([\n",
    "    tf.keras.layers.LSTM(8, input_shape=(1,5)),\n",
    "    tf.keras.layers.Dense(1)\n",
    "])\n",
    "\n",
    "simple_lstm_model.compile(optimizer='adam', loss='mae')\n",
    "\n",
    "simple_lstm_model.fit(mydataset, epochs=EPOCHS, steps_per_epoch=EVALUATION_INTERVAL)"
   ]
  },
  {
   "cell_type": "code",
   "execution_count": null,
   "metadata": {},
   "outputs": [],
   "source": []
  },
  {
   "cell_type": "code",
   "execution_count": null,
   "metadata": {},
   "outputs": [],
   "source": []
  }
 ],
 "metadata": {
  "kernelspec": {
   "display_name": "Python 3",
   "language": "python",
   "name": "python3"
  },
  "language_info": {
   "codemirror_mode": {
    "name": "ipython",
    "version": 3
   },
   "file_extension": ".py",
   "mimetype": "text/x-python",
   "name": "python",
   "nbconvert_exporter": "python",
   "pygments_lexer": "ipython3",
   "version": "3.7.6"
  }
 },
 "nbformat": 4,
 "nbformat_minor": 2
}
