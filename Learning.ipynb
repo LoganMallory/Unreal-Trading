{
 "cells": [
  {
   "cell_type": "code",
   "execution_count": 4,
   "metadata": {},
   "outputs": [],
   "source": [
    "import pandas as pd\n",
    "import numpy as np\n",
    "import tensorflow as tf\n",
    "import matplotlib.pyplot as plt"
   ]
  },
  {
   "cell_type": "code",
   "execution_count": 41,
   "metadata": {},
   "outputs": [],
   "source": [
    "def get_from_binary(year):\n",
    "    \"\"\"\n",
    "    Read in cleaned and trimmed data for SPY_{year} as a numpy array\n",
    "    Construct a pandas dataframe from the array\n",
    "    np.fromfile = 0.5 seconds\n",
    "    pd.read_csv = 30 seconds\n",
    "    \"\"\"\n",
    "    #read in the binary file \n",
    "    arr = np.fromfile('Polygon/Primed/SPY_{}.binary'.format(year), dtype=np.float64)\n",
    "    \n",
    "    #reshape the 1d array into 2d\n",
    "    arr = arr.reshape((int(len(arr)/3), 3))\n",
    "\n",
    "    #construct a Pandas dataframe\n",
    "    df  = pd.DataFrame(arr)\n",
    "    \n",
    "    #reassign the column names\n",
    "    df.columns = ['t', 'p', 's']\n",
    "    \n",
    "    #make the timestamp the index\n",
    "    df.set_index('t', inplace=True)\n",
    "   \n",
    "    #convert 64bit integer index to datetime (unit = nanoseconds)\n",
    "    df.index = df.index = pd.to_datetime(df.index, unit='ns')\n",
    "    \n",
    "    #convert index to US-Eastern timezone, automatically takes care of daylight savings\n",
    "    df.index = df.index.tz_localize('UTC').tz_convert('US/Eastern')\n",
    "    \n",
    "    return df\n",
    "    \n",
    "def OHLCV(df, w):\n",
    "    \"\"\"\n",
    "    For the dataframe :df:, calculate the Open,High,Low,Close,Volume every period :w:\n",
    "    \"\"\"\n",
    "    #resample and calculate OHLCV -- range [w, w+1)\n",
    "    temp = df.resample(w, label='left',closed='left').agg({'p': 'ohlc', 's': 'sum'})\n",
    "    temp.columns = ['open','high','low','close','volume']\n",
    "    \n",
    "    #forward fill the close price to fill in any missing values\n",
    "    temp['close'].fillna(method='ffill', inplace=True)\n",
    "    temp['open'].fillna(temp['close'], inplace=True)\n",
    "    temp['high'].fillna(temp['close'], inplace=True)\n",
    "    temp['low'].fillna(temp['close'], inplace=True)\n",
    "    \n",
    "    return temp\n",
    "\n",
    "def bivariate(df, w):\n",
    "    \"\"\"\n",
    "    Calculate the last price and sum of shares traded in each period w\n",
    "    \"\"\"\n",
    "    #resample and calculate last price and sum of shares (volume) for each period :w:\n",
    "    #range [w, w+1)\n",
    "    temp = df.resample(w, label='left',closed='left').agg({'p':'last','s':'sum'})\n",
    "    \n",
    "    #forward fill the price for missing values\n",
    "    temp['p'].fillna(method='ffill', inplace=True)\n",
    "    \n",
    "    return temp\n",
    "\n",
    "def aggregate_trades(df, agg_type, w):\n",
    "\n",
    "    #get aggregated data for the eval_period\n",
    "    if agg_type == 'ohlcv':\n",
    "        agg_data = OHLCV(df, w)\n",
    "                \n",
    "    elif agg_type == 'bivariate':\n",
    "        agg_data = bivariate(df, w)\n",
    "    \n",
    "    #fill in zero shares with one share so that transform(df) doesn't divide by zero\n",
    "    agg_data.loc[agg_data['s'] < 1, 's'] = 1.0\n",
    "    \n",
    "    return agg_data\n",
    "    \n",
    "\n",
    "def transform(df):\n",
    "    \"\"\"\n",
    "    Convert prices and volume to percent different from previous\n",
    "    \"\"\"\n",
    "    #calculate percent difference from previous :w:\n",
    "    df['p'] = df['p'].pct_change()\n",
    "    df['s'] = df['s'].pct_change()\n",
    "    \n",
    "    #take natural log of returns to get normal distribution\n",
    "    df['s'] = np.log(1 + df['s'])\n",
    "    df['p'] = np.log(1 + df['p'])\n",
    "    \n",
    "    return df\n",
    "\n",
    "def strided_window(arr, window_size, step_size):\n",
    "    \"\"\"\n",
    "    Create expanded array of references that effectively create a \"memory\" for each row,\n",
    "    where columns are previous rows' data.\n",
    "    See generate_view() for information on what window_size and step_size are\n",
    "    https://stackoverflow.com/questions/40084931/taking-subarrays-from-numpy-array-with-given-stride-stepsize/40085052#40085052\n",
    "    \"\"\"\n",
    "    #needed to properly calculate stride sizes, can corrupt memory if incorrect\n",
    "    nrows = ((arr.size-window_size) // step_size) + 1\n",
    "    n     = arr.strides[0]\n",
    "    \n",
    "    #use striding tricks to create training data -- prevent writing to array to reduce chance of corruption\n",
    "    data_references = np.lib.stride_tricks.as_strided(arr, shape=(nrows,window_size), strides=(step_size*n,n), writeable=False)\n",
    "    \n",
    "    return data_references\n",
    "\n",
    "def generate_view(aggregated_data, lookback):\n",
    "    \"\"\"\n",
    "    Generates numpy view of ohlcv_data with shape (nrows-lookback, ncols*lookback)\n",
    "    :aggregated_data: a contiguous numpy array with shape (n,m)\n",
    "    :lookback: an integer specifying how many previous periods (w) to include in each row\n",
    "    \"\"\"\n",
    "    #increment lookback to produce expected behavior\n",
    "    lookback = lookback + 1\n",
    "    \n",
    "    ncols = aggregated_data.shape[1]\n",
    "    \n",
    "    #make the data a 1-dimensional array (unravel it)\n",
    "    data  = aggregated_data.ravel()\n",
    "    \n",
    "    #get views (references) of data (no copying, no extra memory)\n",
    "    data_strided = strided_window(data, window_size = lookback*ncols, step_size = ncols)\n",
    "    \n",
    "    return data_strided\n",
    "\n",
    "\n",
    "def parse_args(agg_type, w, lookback, eval_period):\n",
    "    \"\"\"\n",
    "    string args passed by tf.data.Dataset.from_generator are binary, must be decoded\n",
    "    also performs checks to make sure args are valid\n",
    "    \"\"\"\n",
    "    try:\n",
    "        agg_type    = agg_type.decode('utf-8').lower().strip()\n",
    "        w           = w.decode('utf-8')\n",
    "        eval_period = eval_period.decode('utf-8')\n",
    "    except:\n",
    "        pass\n",
    "    \n",
    "    assert agg_type in ['ohlcv', 'bivariate']\n",
    "    assert lookback >= 0\n",
    "\n",
    "    return agg_type, w, lookback, eval_period\n",
    "\n",
    "def data_generator(agg_type, w, lookback, eval_period):\n",
    "    \"\"\"\n",
    "    Yield either OHLCV or bivariate data aggregated at w\n",
    "    Each yield is data for one eval_period\n",
    "    Reward (profit) should be assessed at end of each eval_period\n",
    "    microseconds(U) | milliseconds(L) | seconds(S) | minutes(T) | hour(H)\n",
    "    \"\"\"\n",
    "    agg_type, w, lookback, eval_period = parse_args(agg_type, w, lookback, eval_period)\n",
    "    \n",
    "    #go one year at a time to reduce memory usage -- reading in CSV's is a bottleneck\n",
    "    for year in range(2003,2005):\n",
    "        print(year)\n",
    "        \n",
    "        #read in the cleaned and trimmed trade data\n",
    "        spy = get_from_binary(year)\n",
    "        \n",
    "        #for each evaluation period (i.e. each game of pong) get aggregated data\n",
    "        for name, eval_period_data in spy.groupby(pd.Grouper(freq=eval_period)):\n",
    "            \n",
    "            #if weekend or other time period with no trades\n",
    "            if eval_period_data.shape[0] > lookback:\n",
    "\n",
    "                print('\\t{}'.format(name))\n",
    "                \n",
    "                #get aggregated data\n",
    "                agg_data = aggregate_trades(eval_period_data, agg_type, w)\n",
    "                \n",
    "                #transform the data (log returns)\n",
    "                agg_data = transform(agg_data)\n",
    "                agg_data = agg_data.iloc[1:,]\n",
    "                yield agg_data\n",
    "                #generate training data with lookbacks\n",
    "                #Xtrain = generate_view(agg_data.values, lookback)\n",
    "                #yield Xtrain"
   ]
  },
  {
   "cell_type": "code",
   "execution_count": 42,
   "metadata": {},
   "outputs": [],
   "source": [
    "mygen = data_generator(agg_type    = 'bivariate', \n",
    "                       w           = 'S',\n",
    "                       lookback    = 2,\n",
    "                       eval_period = 'D')"
   ]
  },
  {
   "cell_type": "code",
   "execution_count": 43,
   "metadata": {},
   "outputs": [
    {
     "name": "stdout",
     "output_type": "stream",
     "text": [
      "2003\n",
      "\t2003-12-01 00:00:00-05:00\n"
     ]
    },
    {
     "data": {
      "text/html": [
       "<div>\n",
       "<style scoped>\n",
       "    .dataframe tbody tr th:only-of-type {\n",
       "        vertical-align: middle;\n",
       "    }\n",
       "\n",
       "    .dataframe tbody tr th {\n",
       "        vertical-align: top;\n",
       "    }\n",
       "\n",
       "    .dataframe thead th {\n",
       "        text-align: right;\n",
       "    }\n",
       "</style>\n",
       "<table border=\"1\" class=\"dataframe\">\n",
       "  <thead>\n",
       "    <tr style=\"text-align: right;\">\n",
       "      <th></th>\n",
       "      <th>p</th>\n",
       "      <th>s</th>\n",
       "    </tr>\n",
       "    <tr>\n",
       "      <th>t</th>\n",
       "      <th></th>\n",
       "      <th></th>\n",
       "    </tr>\n",
       "  </thead>\n",
       "  <tbody>\n",
       "    <tr>\n",
       "      <th>2003-12-01 09:30:07-05:00</th>\n",
       "      <td>-0.000094</td>\n",
       "      <td>5.081404</td>\n",
       "    </tr>\n",
       "    <tr>\n",
       "      <th>2003-12-01 09:30:08-05:00</th>\n",
       "      <td>0.000000</td>\n",
       "      <td>-11.296012</td>\n",
       "    </tr>\n",
       "    <tr>\n",
       "      <th>2003-12-01 09:30:09-05:00</th>\n",
       "      <td>0.000094</td>\n",
       "      <td>6.907755</td>\n",
       "    </tr>\n",
       "    <tr>\n",
       "      <th>2003-12-01 09:30:10-05:00</th>\n",
       "      <td>0.000000</td>\n",
       "      <td>-6.907755</td>\n",
       "    </tr>\n",
       "    <tr>\n",
       "      <th>2003-12-01 09:30:11-05:00</th>\n",
       "      <td>0.000000</td>\n",
       "      <td>0.000000</td>\n",
       "    </tr>\n",
       "    <tr>\n",
       "      <th>...</th>\n",
       "      <td>...</td>\n",
       "      <td>...</td>\n",
       "    </tr>\n",
       "    <tr>\n",
       "      <th>2003-12-01 15:59:52-05:00</th>\n",
       "      <td>0.000000</td>\n",
       "      <td>8.682708</td>\n",
       "    </tr>\n",
       "    <tr>\n",
       "      <th>2003-12-01 15:59:53-05:00</th>\n",
       "      <td>-0.000093</td>\n",
       "      <td>-0.986495</td>\n",
       "    </tr>\n",
       "    <tr>\n",
       "      <th>2003-12-01 15:59:54-05:00</th>\n",
       "      <td>0.000093</td>\n",
       "      <td>-0.893818</td>\n",
       "    </tr>\n",
       "    <tr>\n",
       "      <th>2003-12-01 15:59:55-05:00</th>\n",
       "      <td>-0.000186</td>\n",
       "      <td>-1.098612</td>\n",
       "    </tr>\n",
       "    <tr>\n",
       "      <th>2003-12-01 15:59:56-05:00</th>\n",
       "      <td>0.000000</td>\n",
       "      <td>-0.405465</td>\n",
       "    </tr>\n",
       "  </tbody>\n",
       "</table>\n",
       "<p>23390 rows × 2 columns</p>\n",
       "</div>"
      ],
      "text/plain": [
       "                                  p          s\n",
       "t                                             \n",
       "2003-12-01 09:30:07-05:00 -0.000094   5.081404\n",
       "2003-12-01 09:30:08-05:00  0.000000 -11.296012\n",
       "2003-12-01 09:30:09-05:00  0.000094   6.907755\n",
       "2003-12-01 09:30:10-05:00  0.000000  -6.907755\n",
       "2003-12-01 09:30:11-05:00  0.000000   0.000000\n",
       "...                             ...        ...\n",
       "2003-12-01 15:59:52-05:00  0.000000   8.682708\n",
       "2003-12-01 15:59:53-05:00 -0.000093  -0.986495\n",
       "2003-12-01 15:59:54-05:00  0.000093  -0.893818\n",
       "2003-12-01 15:59:55-05:00 -0.000186  -1.098612\n",
       "2003-12-01 15:59:56-05:00  0.000000  -0.405465\n",
       "\n",
       "[23390 rows x 2 columns]"
      ]
     },
     "execution_count": 43,
     "metadata": {},
     "output_type": "execute_result"
    }
   ],
   "source": [
    "tmp = next(mygen)\n",
    "tmp"
   ]
  },
  {
   "cell_type": "code",
   "execution_count": 54,
   "metadata": {},
   "outputs": [
    {
     "name": "stdout",
     "output_type": "stream",
     "text": [
      "Price Timeseries\n"
     ]
    },
    {
     "data": {
      "image/png": "[encoded data removed]",
      "text/plain": [
       "<Figure size 432x288 with 1 Axes>"
      ]
     },
     "metadata": {
      "needs_background": "light"
     },
     "output_type": "display_data"
    }
   ],
   "source": [
    "print('Price Timeseries')\n",
    "plt.plot(tmp.p[:100000]) # plotting by columns\n",
    "plt.show()"
   ]
  },
  {
   "cell_type": "code",
   "execution_count": 56,
   "metadata": {},
   "outputs": [
    {
     "name": "stdout",
     "output_type": "stream",
     "text": [
      "Volume Timeseries\n"
     ]
    },
    {
     "data": {
      "image/png": "[encoded data removed]",
      "text/plain": [
       "<Figure size 432x288 with 1 Axes>"
      ]
     },
     "metadata": {
      "needs_background": "light"
     },
     "output_type": "display_data"
    }
   ],
   "source": [
    "print('Volume Timeseries')\n",
    "plt.plot(tmp.s[:100000]) # plotting by columns\n",
    "plt.show()"
   ]
  },
  {
   "cell_type": "code",
   "execution_count": 58,
   "metadata": {},
   "outputs": [
    {
     "name": "stdout",
     "output_type": "stream",
     "text": [
      "Price Histogram\n"
     ]
    },
    {
     "data": {
      "image/png": "[encoded data removed]",
      "text/plain": [
       "<Figure size 432x288 with 1 Axes>"
      ]
     },
     "metadata": {
      "needs_background": "light"
     },
     "output_type": "display_data"
    }
   ],
   "source": [
    "print('Price Histogram')\n",
    "plt.hist(tmp.p, bins = 100)\n",
    "plt.show()"
   ]
  },
  {
   "cell_type": "code",
   "execution_count": 59,
   "metadata": {},
   "outputs": [
    {
     "name": "stdout",
     "output_type": "stream",
     "text": [
      "Volume Histogram\n"
     ]
    },
    {
     "data": {
      "image/png": "[encoded data removed]",
      "text/plain": [
       "<Figure size 432x288 with 1 Axes>"
      ]
     },
     "metadata": {
      "needs_background": "light"
     },
     "output_type": "display_data"
    }
   ],
   "source": [
    "print('Volume Histogram')\n",
    "plt.hist(tmp.s, bins = 100)\n",
    "plt.show()"
   ]
  },
  {
   "cell_type": "code",
   "execution_count": null,
   "metadata": {},
   "outputs": [],
   "source": [
    "TYPE      = 'bivariate'\n",
    "W         = 'T' #minute\n",
    "LOOKBACK  = 2\n",
    "EVAL      = 'D' #day\n",
    "\n",
    "\n",
    "price_generator = tf.data.Dataset.from_generator(\n",
    "                    generator     = data_generator, args=[TYPE,W,LOOKBACK,EVAL], \n",
    "                    output_types  = (tf.float32, tf.float32),\n",
    "                    output_shapes =(tf.TensorShape([2*(LOOKBACK+1) if TYPE == 'bivariate' else 5*(LOOKBACK+1)]), tf.TensorShape([]))\n",
    "                    ).repeat().batch(8).prefetch(8)\n",
    "     \n",
    "price_generator"
   ]
  },
  {
   "cell_type": "code",
   "execution_count": null,
   "metadata": {},
   "outputs": [],
   "source": [
    "model = tf.keras.Sequential([tf.keras.layers.Dense(32, input_shape=(5*MEM,)),\n",
    "                             tf.keras.layers.Dense(64, activation=tf.nn.tanh),\n",
    "                             tf.keras.layers.Dense(12, activation=tf.nn.softmax),\n",
    "                             tf.keras.layers.Dense(32, activation=tf.nn.tanh),\n",
    "                             tf.keras.layers.Dense(1, activation=tf.nn.relu)])\n",
    "\n",
    "model.compile(optimizer='adam',\n",
    "              loss='mean_absolute_error')\n",
    "\n",
    "model.fit(price_generator, epochs=5, steps_per_epoch=8347)"
   ]
  },
  {
   "cell_type": "code",
   "execution_count": null,
   "metadata": {},
   "outputs": [],
   "source": [
    "#only works on 1D data (predict high based off prev highs only)\n",
    "simple_lstm_model = tf.keras.models.Sequential([\n",
    "    tf.keras.layers.LSTM(8, input_shape=(1,5)),\n",
    "    tf.keras.layers.Dense(1)\n",
    "])\n",
    "\n",
    "simple_lstm_model.compile(optimizer='adam', loss='mae')\n",
    "\n",
    "simple_lstm_model.fit(mydataset, epochs=EPOCHS, steps_per_epoch=EVALUATION_INTERVAL)"
   ]
  },
  {
   "cell_type": "code",
   "execution_count": null,
   "metadata": {},
   "outputs": [],
   "source": []
  },
  {
   "cell_type": "code",
   "execution_count": null,
   "metadata": {},
   "outputs": [],
   "source": []
  }
 ],
 "metadata": {
  "kernelspec": {
   "display_name": "Python 3",
   "language": "python",
   "name": "python3"
  },
  "language_info": {
   "codemirror_mode": {
    "name": "ipython",
    "version": 3
   },
   "file_extension": ".py",
   "mimetype": "text/x-python",
   "name": "python",
   "nbconvert_exporter": "python",
   "pygments_lexer": "ipython3",
   "version": "3.7.6"
  }
 },
 "nbformat": 4,
 "nbformat_minor": 2
}
