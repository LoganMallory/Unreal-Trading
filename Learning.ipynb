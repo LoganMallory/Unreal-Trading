{
 "cells": [
  {
   "cell_type": "code",
   "execution_count": 1,
   "metadata": {},
   "outputs": [],
   "source": [
    "import pandas as pd\n",
    "import numpy as np\n",
    "import tensorflow as tf\n",
    "import matplotlib.pyplot as plt"
   ]
  },
  {
   "cell_type": "code",
   "execution_count": 2,
   "metadata": {},
   "outputs": [],
   "source": [
    "def get_raw_data(year):\n",
    "    \"\"\"\n",
    "    Read in SPY_{year}.csv\n",
    "    create datetime index\n",
    "    convert to US/Eastern timezone\n",
    "    trim to trading hours\n",
    "    \"\"\"\n",
    "    df = pd.read_csv('./Polygon/Raw/SPY_{}.csv'.format(year), engine='c', index_col=['t'], usecols = ['t','p','s'], dtype={'t':np.int64, 'p':np.float64, 's':np.float64})\n",
    "    #convert index to pd.DatetimeIndex, timezone naive, daylight savings naive\n",
    "    df.index = pd.to_datetime(df.index, unit='ns')\n",
    "    #convert index to US-Eastern timezone, automatically takes care of daylight savings\n",
    "    df.index = df.index.tz_localize('UTC').tz_convert('US/Eastern')\n",
    "    #restrict data to trading hours\n",
    "    df = df.between_time('09:30:00', '16:00:00')\n",
    "    #remove outliers = pct change >= 1%\n",
    "    df = df.groupby(pd.Grouper(freq='D'),as_index=False).apply(lambda g: g[abs(((g.p.shift(1)-g.p) / g.p) < 0.01)])\n",
    "    return df\n",
    "\n",
    "def strided_window(a, window_size, step_size):\n",
    "    \"\"\"\n",
    "    Create expanded array of references that effectively create a \"memory\" for each row,\n",
    "    where columns are previous rows' data.\n",
    "    See generate_view() for information on what window_size and step_size are\n",
    "    https://stackoverflow.com/questions/40084931/taking-subarrays-from-numpy-array-with-given-stride-stepsize/40085052#40085052\n",
    "    \"\"\"\n",
    "    nrows = ((a.size-window_size)//step_size)+1\n",
    "    n     = a.strides[0]\n",
    "    return np.lib.stride_tricks.as_strided(a, shape=(nrows,window_size), strides=(step_size*n,n), writeable=False)\n",
    "\n",
    "def generate_view(aggregated_data, lookback):\n",
    "    \"\"\"\n",
    "    Generates numpy view of ohlcv_data with shape (nrows-lookback, ncols*lookback)\n",
    "    :ohlcv_data: a contiguous numpy array with shape (n,m)\n",
    "    :lookback: an integer specifying how many periods to include in each row\n",
    "    \"\"\"\n",
    "    ncols = aggregated_data.shape[1]\n",
    "    data  = aggregated_data.ravel()\n",
    "    #get views (references) of prices (no copying, no extra memory)\n",
    "    data_strided = strided_window(data, window_size = lookback*ncols, step_size = ncols)\n",
    "    return data_strided[:-1]\n",
    "\n",
    "def calc_ohlcv(df, period):\n",
    "    #period = microseconds(U) | milliseconds(L) | seconds(S) | minutes(T) | hour(H)\n",
    "    temp = df.resample(period).agg({'p': 'ohlc', 's': 'sum'})\n",
    "    temp.columns = ['open','high','low','close','volume']\n",
    "    temp['close'].fillna(method='ffill', inplace=True)\n",
    "    temp['open'].fillna(temp['close'], inplace=True)\n",
    "    temp['high'].fillna(temp['close'], inplace=True)\n",
    "    temp['low'].fillna(temp['close'], inplace=True)\n",
    "    return temp\n",
    "\n",
    "def OHLCV_generator(year, resample_freq = 'T', measure = 'high', lookback_memory = 1):\n",
    "    try: #need this for args passed by tf.data.Dataset.from_generator\n",
    "        resample_freq = resample_freq.decode(\"utf-8\") \n",
    "        measure       = measure.decode(\"utf-8\") \n",
    "    except:\n",
    "        pass\n",
    "    spy = get_raw_data(year)\n",
    "    for day, day_group in spy.groupby(pd.Grouper(freq='D')):\n",
    "        #get ohlcv data\n",
    "        ohlcv_temp = calc_ohlcv(day_group, resample_freq)\n",
    "        #take measure as outcome\n",
    "        Ytrain = ohlcv_temp[measure].values[lookback_memory:]\n",
    "        #generate training data\n",
    "        Xtrain = generate_view(ohlcv_temp.values, lookback_memory)\n",
    "        for i in range(Xtrain.shape[0]):\n",
    "            yield Xtrain[i], Ytrain[i]\n",
    "\n",
    "def bivariate_generator(year, resample_freq = 'ms'):\n",
    "    spy = get_raw_data(year)\n",
    "    for day, day_group in spy.groupby(pd.Grouper(freq='D')):\n",
    "        print('\\r{}...'.format(day), end='')\n",
    "        #market price at second = x = most recent price = bin using prices up to and including x\n",
    "        #each day = 1GB on disk, 560MB in RAM\n",
    "        bivariate = day_group.resample(resample_freq, label='right',closed='right').agg({'p':'last','s':'sum'}).ffill()\n",
    "        #for price in last_bids.values:\n",
    "        yield last_bids.values\n",
    "        break"
   ]
  },
  {
   "cell_type": "code",
   "execution_count": 43,
   "metadata": {},
   "outputs": [
    {
     "name": "stdout",
     "output_type": "stream",
     "text": [
      "\r",
      "2003-12-01 00:00:00-05:00..."
     ]
    },
    {
     "data": {
      "text/plain": [
       "23390752"
      ]
     },
     "execution_count": 43,
     "metadata": {},
     "output_type": "execute_result"
    }
   ],
   "source": [
    "i = 0\n",
    "for x in last_bid_generator(2003, resample_freq = 'ms'):\n",
    "    i += 1\n",
    "i"
   ]
  },
  {
   "cell_type": "code",
   "execution_count": 191,
   "metadata": {},
   "outputs": [
    {
     "data": {
      "image/png": "[encoded data removed]",
      "text/plain": [
       "<Figure size 432x288 with 1 Axes>"
      ]
     },
     "metadata": {
      "needs_background": "light"
     },
     "output_type": "display_data"
    }
   ],
   "source": [
    "plt.plot(df2.p) # plotting by columns\n",
    "plt.show()"
   ]
  },
  {
   "cell_type": "code",
   "execution_count": null,
   "metadata": {},
   "outputs": [],
   "source": [
    "YEAR = 2003\n",
    "FREQ = 'T'\n",
    "MSR  = 'close'\n",
    "MEM  = 2\n",
    "price_generator = tf.data.Dataset.from_generator(\n",
    "                    generator     = ohlcv_generator, args=[YEAR,FREQ,MSR,MEM], \n",
    "                    output_types  = (tf.float32, tf.float32),\n",
    "                    output_shapes =(tf.TensorShape([5*MEM]), tf.TensorShape([]))).repeat().batch(8).prefetch(8)\n",
    "     \n",
    "price_generator"
   ]
  },
  {
   "cell_type": "code",
   "execution_count": null,
   "metadata": {},
   "outputs": [],
   "source": [
    "model = tf.keras.Sequential([tf.keras.layers.Dense(32, input_shape=(5*MEM,)),\n",
    "                             tf.keras.layers.Dense(64, activation=tf.nn.tanh),\n",
    "                             tf.keras.layers.Dense(12, activation=tf.nn.softmax),\n",
    "                             tf.keras.layers.Dense(32, activation=tf.nn.tanh),\n",
    "                             tf.keras.layers.Dense(1, activation=tf.nn.relu)])\n",
    "\n",
    "model.compile(optimizer='adam',\n",
    "              loss='mean_absolute_error')\n",
    "\n",
    "model.fit(price_generator, epochs=5, steps_per_epoch=8347)"
   ]
  },
  {
   "cell_type": "code",
   "execution_count": null,
   "metadata": {},
   "outputs": [],
   "source": [
    "#only works on 1D data (predict high based off prev highs only)\n",
    "simple_lstm_model = tf.keras.models.Sequential([\n",
    "    tf.keras.layers.LSTM(8, input_shape=(1,5)),\n",
    "    tf.keras.layers.Dense(1)\n",
    "])\n",
    "\n",
    "simple_lstm_model.compile(optimizer='adam', loss='mae')\n",
    "\n",
    "simple_lstm_model.fit(mydataset, epochs=EPOCHS, steps_per_epoch=EVALUATION_INTERVAL)"
   ]
  },
  {
   "cell_type": "code",
   "execution_count": null,
   "metadata": {},
   "outputs": [],
   "source": []
  },
  {
   "cell_type": "code",
   "execution_count": null,
   "metadata": {},
   "outputs": [],
   "source": []
  }
 ],
 "metadata": {
  "kernelspec": {
   "display_name": "Python 3",
   "language": "python",
   "name": "python3"
  },
  "language_info": {
   "codemirror_mode": {
    "name": "ipython",
    "version": 3
   },
   "file_extension": ".py",
   "mimetype": "text/x-python",
   "name": "python",
   "nbconvert_exporter": "python",
   "pygments_lexer": "ipython3",
   "version": "3.7.6"
  }
 },
 "nbformat": 4,
 "nbformat_minor": 2
}
